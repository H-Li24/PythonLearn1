{
 "nbformat": 4,
 "nbformat_minor": 2,
 "metadata": {
  "language_info": {
   "name": "python",
   "codemirror_mode": {
    "name": "ipython",
    "version": 3
   },
   "version": "3.7.4-final"
  },
  "orig_nbformat": 2,
  "file_extension": ".py",
  "mimetype": "text/x-python",
  "name": "python",
  "npconvert_exporter": "python",
  "pygments_lexer": "ipython3",
  "version": 3,
  "kernelspec": {
   "name": "python3",
   "display_name": "Python 3"
  }
 },
 "cells": [
  {
   "cell_type": "markdown",
   "metadata": {},
   "source": [
    "### 列表推导式"
   ]
  },
  {
   "cell_type": "code",
   "execution_count": null,
   "metadata": {},
   "outputs": [],
   "source": [
    "I change something in this file."
   ]
  },
  {
   "cell_type": "code",
   "execution_count": 1,
   "metadata": {},
   "outputs": [
    {
     "name": "stdout",
     "output_type": "stream",
     "text": "[0, 1, 4, 9, 16, 25, 36, 49, 64, 81, 100, 121]\n"
    }
   ],
   "source": [
    "list = range(12)\n",
    "t = [i * i for i in list]\n",
    "print(t)"
   ]
  },
  {
   "cell_type": "markdown",
   "metadata": {},
   "source": [
    "等价于"
   ]
  },
  {
   "cell_type": "code",
   "execution_count": 2,
   "metadata": {},
   "outputs": [
    {
     "name": "stdout",
     "output_type": "stream",
     "text": "[0, 1, 4, 9, 16, 25, 36, 49, 64, 81, 100, 121]\n"
    }
   ],
   "source": [
    "l = range(12)\n",
    "t = []\n",
    "for i in l:\n",
    "    t.append(i * i)\n",
    "print(t)"
   ]
  },
  {
   "cell_type": "markdown",
   "metadata": {},
   "source": [
    "还可以if"
   ]
  },
  {
   "cell_type": "code",
   "execution_count": 4,
   "metadata": {},
   "outputs": [
    {
     "name": "stdout",
     "output_type": "stream",
     "text": "[1, 9, 25, 49, 81, 121]\n"
    }
   ],
   "source": [
    "list = range(12)\n",
    "t = [i * i for i in list if i % 2 != 0]\n",
    "print(t)"
   ]
  },
  {
   "cell_type": "markdown",
   "metadata": {},
   "source": [
    "等价于"
   ]
  },
  {
   "cell_type": "code",
   "execution_count": 6,
   "metadata": {},
   "outputs": [
    {
     "name": "stdout",
     "output_type": "stream",
     "text": "[1, 9, 25, 49, 81, 121]\n"
    }
   ],
   "source": [
    "l/ = range(12)\n",
    "t = []\n",
    "for i in l:\n",
    "    if i % 2 != 0:\n",
    "        t.append(i * i)\n",
    "print(t)"
   ]
  },
  {
   "cell_type": "code",
   "execution_count": null,
   "metadata": {},
   "outputs": [],
   "source": [
    "### 练习\n",
    "\n",
    "思考一下，列表推导式是否能够将素数列表直接实现出来？为什么？\n",
    "\n",
    "然后测试一下。\n",
    "\n",
    "答案：不能"
   ]
  },
  {
   "cell_type": "markdown",
   "metadata": {},
   "source": [
    "### dict \n",
    "\n",
    "具有一系列的成对对象，一个叫做key，一个叫做value。\n",
    "\n",
    "无顺序，key不可重复（映射）。\n",
    "\n",
    "通过一个key可以唯一确定另一个value，反之未必。\n",
    "\n",
    "可以添加和删除。\n",
    "\n",
    "其中的元素（包括key和value）不需要是同类型。\n",
    "\n",
    "key是不可变对象。"
   ]
  },
  {
   "cell_type": "code",
   "execution_count": 11,
   "metadata": {},
   "outputs": [
    {
     "name": "stdout",
     "output_type": "stream",
     "text": "{1: 2, 2: 1}\n{1: 2, 2: 1, (1, 2): 1, (1, 2, 3): 1}\n"
    }
   ],
   "source": [
    "k = {}\n",
    "k[1] = 2\n",
    "k[2] = 1\n",
    "print(k)\n",
    "\n",
    "l =(1,2)\n",
    "k[l] = 1\n",
    "l1 = (1,2,3)\n",
    "k[l1] = 1\n",
    "print(k)\n"
   ]
  },
  {
   "cell_type": "code",
   "execution_count": 12,
   "metadata": {},
   "outputs": [
    {
     "name": "stdout",
     "output_type": "stream",
     "text": "{1: {1: 2}}\n"
    }
   ],
   "source": [
    "d = {1:2}\n",
    "e = {1:d}\n",
    "print(e)"
   ]
  },
  {
   "cell_type": "code",
   "execution_count": 13,
   "metadata": {},
   "outputs": [
    {
     "name": "stdout",
     "output_type": "stream",
     "text": "{1: 2, 2: {1: {...}}}\n"
    }
   ],
   "source": [
    "d = {1:2}\n",
    "e = {1:d}\n",
    "d[2] = e\n",
    "print(d)"
   ]
  },
  {
   "cell_type": "code",
   "execution_count": 14,
   "metadata": {},
   "outputs": [
    {
     "name": "stdout",
     "output_type": "stream",
     "text": "[1, [1, [...]]]\n"
    }
   ],
   "source": [
    "d = [1,]\n",
    "e = [1,d]\n",
    "d.append(e)\n",
    "print(e)"
   ]
  },
  {
   "cell_type": "code",
   "execution_count": 24,
   "metadata": {},
   "outputs": [
    {
     "name": "stdout",
     "output_type": "stream",
     "text": "0\n5\n1\n2\n2\n"
    }
   ],
   "source": [
    "d = {0:'0',5:'5',1:'1',2:'2'}\n",
    "for i in d:\n",
    "    print(i)\n",
    "print(d[2])"
   ]
  },
  {
   "cell_type": "code",
   "execution_count": 27,
   "metadata": {},
   "outputs": [
    {
     "name": "stdout",
     "output_type": "stream",
     "text": "{'Mike': 'Mike97@qq.com', 'Jenny': 'ndz5250@sina.com', 'Hench': 'hench_li@163.com'}\n"
    }
   ],
   "source": [
    "ab = {\n",
    "    'Tom':'Tom96@163.com',\n",
    "    'Mike':'Mike97@qq.com',\n",
    "    'Jenny':'ndz5250@sina.com',\n",
    "    'Hench':'hench_li@163.com'\n",
    "}\n",
    "\n",
    "del ab['Tom']\n",
    "\n",
    "print(ab)"
   ]
  },
  {
   "cell_type": "code",
   "execution_count": 28,
   "metadata": {},
   "outputs": [
    {
     "name": "stdout",
     "output_type": "stream",
     "text": "Name list: Mike, Jenny, Hench\n"
    }
   ],
   "source": [
    "print('Name list: %s' % ', '.join(ab))"
   ]
  },
  {
   "cell_type": "code",
   "execution_count": 41,
   "metadata": {},
   "outputs": [
    {
     "name": "stdout",
     "output_type": "stream",
     "text": "Contact Mike at Mike97@qq.com\nContact Jenny at ndz5250@sina.com\nContact Hench at hench_li@163.com\ndict_items([('Mike', 'Mike97@qq.com'), ('Jenny', 'ndz5250@sina.com'), ('Hench', 'hench_li@163.com')])\n"
    }
   ],
   "source": [
    "for name, address in ab.items():\n",
    "    print('Contact {0} at {1}'.format(name, address))\n",
    "print(ab.items())"
   ]
  },
  {
   "cell_type": "code",
   "execution_count": 42,
   "metadata": {},
   "outputs": [
    {
     "name": "stdout",
     "output_type": "stream",
     "text": "Hench's address is hench_li@163.com.\n"
    }
   ],
   "source": [
    "if 'Hench' in ab:\n",
    "    print(\"Hench's address is {0}.\".format(ab['Hench']))"
   ]
  },
  {
   "cell_type": "markdown",
   "metadata": {},
   "source": [
    "### set\n",
    "\n",
    "具有一组对象。无顺序，不可重复。\n",
    "\n",
    "可以添加和删除。\n",
    "\n",
    "其中的元素不需要是同类型，但必须是不可变对象。"
   ]
  },
  {
   "cell_type": "code",
   "execution_count": 56,
   "metadata": {},
   "outputs": [
    {
     "name": "stdout",
     "output_type": "stream",
     "text": "{'India', 'Russia', 'Brazil'}\n"
    }
   ],
   "source": [
    "bri = {'Brazil', 'Russia','India'}\n",
    "print(bri)"
   ]
  },
  {
   "cell_type": "code",
   "execution_count": 57,
   "metadata": {},
   "outputs": [
    {
     "data": {
      "text/plain": "False"
     },
     "execution_count": 57,
     "metadata": {},
     "output_type": "execute_result"
    }
   ],
   "source": [
    "'USA' in bri"
   ]
  },
  {
   "cell_type": "code",
   "execution_count": 58,
   "metadata": {},
   "outputs": [
    {
     "name": "stdout",
     "output_type": "stream",
     "text": "{'India', 'Russia', 'Brazil'}\n{'India', 'Russia', 'Brazil', 'China'}\n"
    }
   ],
   "source": [
    "bric = bri.copy()\n",
    "print(bric)\n",
    "bric.add('China')\n",
    "print(bric)"
   ]
  },
  {
   "cell_type": "code",
   "execution_count": 60,
   "metadata": {},
   "outputs": [
    {
     "name": "stdout",
     "output_type": "stream",
     "text": "{'India', 'Brazil', 'China'}\n{'India', 'Brazil'}\n"
    }
   ],
   "source": [
    "bric.remove('Russia')\n",
    "print(bric)"
   ]
  },
  {
   "cell_type": "code",
   "execution_count": 61,
   "metadata": {},
   "outputs": [
    {
     "name": "stdout",
     "output_type": "stream",
     "text": "{'India', 'Brazil'}\n{'China', 'Russia', 'India', 'Brazil'}\n"
    }
   ],
   "source": [
    "print(bri & bric)\n",
    "print(bri | bric)"
   ]
  },
  {
   "cell_type": "code",
   "execution_count": null,
   "metadata": {},
   "outputs": [],
   "source": []
  },
  {
   "cell_type": "code",
   "execution_count": null,
   "metadata": {},
   "outputs": [],
   "source": []
  }
 ]
}