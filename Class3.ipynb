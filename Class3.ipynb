{
 "nbformat": 4,
 "nbformat_minor": 2,
 "metadata": {
  "language_info": {
   "name": "python",
   "codemirror_mode": {
    "name": "ipython",
    "version": 3
   },
   "version": "3.7.4-final"
  },
  "orig_nbformat": 2,
  "file_extension": ".py",
  "mimetype": "text/x-python",
  "name": "python",
  "npconvert_exporter": "python",
  "pygments_lexer": "ipython3",
  "version": 3,
  "kernelspec": {
   "name": "python3",
   "display_name": "Python 3"
  }
 },
 "cells": [
  {
   "cell_type": "markdown",
   "metadata": {},
   "source": [
    "## 函数\n",
    "在很多语言中，函数分为两类：procedure指的是执行过程，function指的是给定一些数，计算出值。\n",
    "\n",
    "在python中这两者被统一成function（可以返回none）。"
   ]
  },
  {
   "cell_type": "markdown",
   "metadata": {},
   "source": [
    "### 函数的定义和调用\n",
    "\n",
    "定义："
   ]
  },
  {
   "cell_type": "code",
   "execution_count": 2,
   "metadata": {},
   "outputs": [],
   "source": [
    "def say_hello():\n",
    "    print('hello world')"
   ]
  },
  {
   "cell_type": "code",
   "execution_count": 3,
   "metadata": {},
   "outputs": [
    {
     "name": "stdout",
     "output_type": "stream",
     "text": "hello world\n"
    }
   ],
   "source": [
    "say_hello()"
   ]
  },
  {
   "cell_type": "markdown",
   "metadata": {},
   "source": [
    "### 参数\n",
    "\n",
    "可以通过参数向函数传递数据"
   ]
  },
  {
   "cell_type": "code",
   "execution_count": 4,
   "metadata": {},
   "outputs": [
    {
     "name": "stdout",
     "output_type": "stream",
     "text": "4 is maximum\n"
    }
   ],
   "source": [
    "def print_max(a,b):\n",
    "    if a > b:\n",
    "        print('{0} is maximum'.format(a))\n",
    "    elif a == b:\n",
    "        print('{0} is equal to {1}'.format(a,b))\n",
    "    else:\n",
    "        print('{0} is maximum'.format(b))\n",
    "print_max(3,4)"
   ]
  },
  {
   "cell_type": "code",
   "execution_count": 7,
   "metadata": {},
   "outputs": [
    {
     "name": "stdout",
     "output_type": "stream",
     "text": "4 is maximum\n"
    }
   ],
   "source": [
    "def print_max(a,b): #a, b是局部变量\n",
    "    if a > b:\n",
    "        print('%d is maximum' % (a))\n",
    "    elif a == b:\n",
    "        print('%d is equal to %d' % (a,b))\n",
    "    else:\n",
    "        print('%d is maximum' % (b))\n",
    "print_max(3,4)"
   ]
  },
  {
   "cell_type": "code",
   "execution_count": 32,
   "metadata": {},
   "outputs": [
    {
     "name": "stdout",
     "output_type": "stream",
     "text": "6 is maximum -----\n"
    }
   ],
   "source": [
    "def print_Max(a, b):\n",
    "    #print(a, b)\n",
    "    if a > b:\n",
    "        print('{} is maximum ====='.format(a))\n",
    "    elif a==b:\n",
    "        print('{} is equal to {}'.format(a, b))\n",
    "    else:\n",
    "        print('{} is maximum -----'.format(b))\n",
    "\n",
    "a = 6\n",
    "b = 5\n",
    "print_Max(b, a)"
   ]
  },
  {
   "cell_type": "markdown",
   "metadata": {},
   "source": [
    "### 局部变量\n",
    "\n",
    "在函数体内定义的变量称为局部变量。\n",
    "\n",
    "局部变量在函数执行时产生，在函数结束时消亡。函数外无法看到局部变量。\n",
    "\n",
    "参数可以视为一种特殊的局部变量。\n",
    "\n",
    "对局部变量的修改不影响全局变量。"
   ]
  },
  {
   "cell_type": "code",
   "execution_count": 11,
   "metadata": {},
   "outputs": [
    {
     "name": "stdout",
     "output_type": "stream",
     "text": "Change local x to 2\n50\n"
    }
   ],
   "source": [
    "x = 50\n",
    "def func(x):\n",
    "    print('Change local x to {0}'.format(x))\n",
    "func(2)\n",
    "print(x)"
   ]
  },
  {
   "cell_type": "markdown",
   "metadata": {},
   "source": [
    "### 全局变量\n",
    "\n",
    "在模块内定义的变量叫全局变量\n",
    "全局变量在全局可见，函数体内可以引用全局变量。\n",
    "函数可以用global关键字声明某变量是全局的。"
   ]
  },
  {
   "cell_type": "code",
   "execution_count": 13,
   "metadata": {},
   "outputs": [
    {
     "name": "stdout",
     "output_type": "stream",
     "text": "x is 50\n"
    }
   ],
   "source": [
    "x = 50\n",
    "def func():\n",
    "    print('x is {0}'.format(x))\n",
    "func()"
   ]
  },
  {
   "cell_type": "code",
   "execution_count": 15,
   "metadata": {},
   "outputs": [
    {
     "name": "stdout",
     "output_type": "stream",
     "text": "x is 50 before function.\nx is 50\nChanged x to 2\nx is 2 after function\n"
    }
   ],
   "source": [
    "x = 50\n",
    "def func():\n",
    "    global x\n",
    "    print('x is {0}'.format(x))\n",
    "    x = 2\n",
    "    print('Changed x to {0}'.format(x))\n",
    "\n",
    "print('x is {0} before function.'.format(x))\n",
    "func()\n",
    "print('x is {0} after function'.format(x))"
   ]
  },
  {
   "cell_type": "markdown",
   "metadata": {},
   "source": [
    "### 作用域\n",
    "\n",
    "变量可见的范围叫做变量的作用域。\n",
    "\n",
    "局部变量的作用域在函数内，全局变量的作用域在模块内。\n",
    "\n",
    "作用域的基本原则是，内层作用域可访问外层作用域，反之外层不可访问内层变量。\n",
    "\n",
    "如果两个作用域内有同一个名字，那么内层的起作用。\n",
    "\n",
    "在工程中不应当给两个变量起同一个名字。"
   ]
  },
  {
   "cell_type": "code",
   "execution_count": 17,
   "metadata": {},
   "outputs": [
    {
     "name": "stdout",
     "output_type": "stream",
     "text": "x is 3, y is 50 \nx is 3, y is 6 \n"
    }
   ],
   "source": [
    "x = 100\n",
    "y = 50\n",
    "\n",
    "def fun(x, y=6):\n",
    "    x = 3\n",
    "    print('x is {}, y is {} '.format(x, y))\n",
    "\n",
    "fun(x,y)\n",
    "fun(x)"
   ]
  },
  {
   "cell_type": "markdown",
   "metadata": {},
   "source": [
    "### Unbound异常\n",
    "\n",
    "下面的局部变量会影响上面代码的执行"
   ]
  },
  {
   "cell_type": "code",
   "execution_count": 19,
   "metadata": {},
   "outputs": [
    {
     "ename": "UnboundLocalError",
     "evalue": "local variable 'x' referenced before assignment",
     "output_type": "error",
     "traceback": [
      "\u001b[1;31m---------------------------------------------------------------------------\u001b[0m",
      "\u001b[1;31mUnboundLocalError\u001b[0m                         Traceback (most recent call last)",
      "\u001b[1;32m<ipython-input-19-d7f117c6f25f>\u001b[0m in \u001b[0;36m<module>\u001b[1;34m\u001b[0m\n\u001b[0;32m      3\u001b[0m     \u001b[0mprint\u001b[0m\u001b[1;33m(\u001b[0m\u001b[0mx\u001b[0m\u001b[1;33m)\u001b[0m\u001b[1;33m\u001b[0m\u001b[1;33m\u001b[0m\u001b[0m\n\u001b[0;32m      4\u001b[0m     \u001b[0mx\u001b[0m\u001b[1;33m=\u001b[0m\u001b[1;36m2\u001b[0m\u001b[1;33m\u001b[0m\u001b[1;33m\u001b[0m\u001b[0m\n\u001b[1;32m----> 5\u001b[1;33m \u001b[0mfunc\u001b[0m\u001b[1;33m(\u001b[0m\u001b[1;33m)\u001b[0m\u001b[1;33m\u001b[0m\u001b[1;33m\u001b[0m\u001b[0m\n\u001b[0m\u001b[0;32m      6\u001b[0m \u001b[0mprint\u001b[0m\u001b[1;33m(\u001b[0m\u001b[0mx\u001b[0m\u001b[1;33m)\u001b[0m\u001b[1;33m\u001b[0m\u001b[1;33m\u001b[0m\u001b[0m\n",
      "\u001b[1;32m<ipython-input-19-d7f117c6f25f>\u001b[0m in \u001b[0;36mfunc\u001b[1;34m()\u001b[0m\n\u001b[0;32m      1\u001b[0m \u001b[0mx\u001b[0m \u001b[1;33m=\u001b[0m \u001b[1;36m50\u001b[0m\u001b[1;33m\u001b[0m\u001b[1;33m\u001b[0m\u001b[0m\n\u001b[0;32m      2\u001b[0m \u001b[1;32mdef\u001b[0m \u001b[0mfunc\u001b[0m\u001b[1;33m(\u001b[0m\u001b[1;33m)\u001b[0m\u001b[1;33m:\u001b[0m\u001b[1;33m\u001b[0m\u001b[1;33m\u001b[0m\u001b[0m\n\u001b[1;32m----> 3\u001b[1;33m     \u001b[0mprint\u001b[0m\u001b[1;33m(\u001b[0m\u001b[0mx\u001b[0m\u001b[1;33m)\u001b[0m\u001b[1;33m\u001b[0m\u001b[1;33m\u001b[0m\u001b[0m\n\u001b[0m\u001b[0;32m      4\u001b[0m     \u001b[0mx\u001b[0m\u001b[1;33m=\u001b[0m\u001b[1;36m2\u001b[0m\u001b[1;33m\u001b[0m\u001b[1;33m\u001b[0m\u001b[0m\n\u001b[0;32m      5\u001b[0m \u001b[0mfunc\u001b[0m\u001b[1;33m(\u001b[0m\u001b[1;33m)\u001b[0m\u001b[1;33m\u001b[0m\u001b[1;33m\u001b[0m\u001b[0m\n",
      "\u001b[1;31mUnboundLocalError\u001b[0m: local variable 'x' referenced before assignment"
     ]
    }
   ],
   "source": [
    "x = 50\n",
    "def func():\n",
    "    print(x)\n",
    "    x=2\n",
    "func()\n",
    "print(x)"
   ]
  },
  {
   "cell_type": "code",
   "execution_count": 20,
   "metadata": {},
   "outputs": [
    {
     "ename": "UnboundLocalError",
     "evalue": "local variable 'x' referenced before assignment",
     "output_type": "error",
     "traceback": [
      "\u001b[1;31m---------------------------------------------------------------------------\u001b[0m",
      "\u001b[1;31mUnboundLocalError\u001b[0m                         Traceback (most recent call last)",
      "\u001b[1;32m<ipython-input-20-2312650d4500>\u001b[0m in \u001b[0;36m<module>\u001b[1;34m\u001b[0m\n\u001b[0;32m      5\u001b[0m     \u001b[1;32melse\u001b[0m\u001b[1;33m:\u001b[0m\u001b[1;33m\u001b[0m\u001b[1;33m\u001b[0m\u001b[0m\n\u001b[0;32m      6\u001b[0m         \u001b[0mx\u001b[0m\u001b[1;33m=\u001b[0m\u001b[1;36m2\u001b[0m\u001b[1;33m\u001b[0m\u001b[1;33m\u001b[0m\u001b[0m\n\u001b[1;32m----> 7\u001b[1;33m \u001b[0mfunc\u001b[0m\u001b[1;33m(\u001b[0m\u001b[1;33m)\u001b[0m\u001b[1;33m\u001b[0m\u001b[1;33m\u001b[0m\u001b[0m\n\u001b[0m\u001b[0;32m      8\u001b[0m \u001b[0mprint\u001b[0m\u001b[1;33m(\u001b[0m\u001b[0mx\u001b[0m\u001b[1;33m)\u001b[0m\u001b[1;33m\u001b[0m\u001b[1;33m\u001b[0m\u001b[0m\n",
      "\u001b[1;32m<ipython-input-20-2312650d4500>\u001b[0m in \u001b[0;36mfunc\u001b[1;34m()\u001b[0m\n\u001b[0;32m      2\u001b[0m \u001b[1;32mdef\u001b[0m \u001b[0mfunc\u001b[0m\u001b[1;33m(\u001b[0m\u001b[1;33m)\u001b[0m\u001b[1;33m:\u001b[0m\u001b[1;33m\u001b[0m\u001b[1;33m\u001b[0m\u001b[0m\n\u001b[0;32m      3\u001b[0m     \u001b[1;32mif\u001b[0m \u001b[1;32mTrue\u001b[0m\u001b[1;33m:\u001b[0m\u001b[1;33m\u001b[0m\u001b[1;33m\u001b[0m\u001b[0m\n\u001b[1;32m----> 4\u001b[1;33m         \u001b[0mprint\u001b[0m\u001b[1;33m(\u001b[0m\u001b[0mx\u001b[0m\u001b[1;33m)\u001b[0m\u001b[1;33m\u001b[0m\u001b[1;33m\u001b[0m\u001b[0m\n\u001b[0m\u001b[0;32m      5\u001b[0m     \u001b[1;32melse\u001b[0m\u001b[1;33m:\u001b[0m\u001b[1;33m\u001b[0m\u001b[1;33m\u001b[0m\u001b[0m\n\u001b[0;32m      6\u001b[0m         \u001b[0mx\u001b[0m\u001b[1;33m=\u001b[0m\u001b[1;36m2\u001b[0m\u001b[1;33m\u001b[0m\u001b[1;33m\u001b[0m\u001b[0m\n",
      "\u001b[1;31mUnboundLocalError\u001b[0m: local variable 'x' referenced before assignment"
     ]
    }
   ],
   "source": [
    "x = 50\n",
    "def func():\n",
    "    if True:\n",
    "        print(x)\n",
    "    else:\n",
    "        x=2\n",
    "func()\n",
    "print(x)"
   ]
  },
  {
   "cell_type": "markdown",
   "metadata": {},
   "source": [
    "### 参数默认值\n",
    "\n",
    "函数定义值，可以给参数一个值。当调用时，该参数并未给出的情况下，使用默认值。\n",
    "\n",
    "提示：从安全性角度来说，不要使用可变对象（列表，字典，集合）作为参数默认值。如果要使用，需要使用None。"
   ]
  },
  {
   "cell_type": "code",
   "execution_count": 23,
   "metadata": {},
   "outputs": [],
   "source": [
    "def say(message, times = 1):\n",
    "    print(message * times)"
   ]
  },
  {
   "cell_type": "code",
   "execution_count": 24,
   "metadata": {},
   "outputs": [
    {
     "name": "stdout",
     "output_type": "stream",
     "text": "[1]\n[1]\n------\n[1]\n[1, 1]\n"
    }
   ],
   "source": [
    "def append1(l=[]):\n",
    "    l.append(1)\n",
    "    return l\n",
    "\n",
    "print(append1([]))\n",
    "print(append1([]))\n",
    "\n",
    "print('------')\n",
    "\n",
    "print(append1()) #在没有参数输入的情况下，默认值会改变，或者说它使用了可变对象作为参数默认值，\n",
    "print(append1())"
   ]
  },
  {
   "cell_type": "code",
   "execution_count": 25,
   "metadata": {},
   "outputs": [
    {
     "name": "stdout",
     "output_type": "stream",
     "text": "[1]\n[1]\n------\n[1]\n[1]\n"
    }
   ],
   "source": [
    "def append1(l=None):\n",
    "    if l is None:\n",
    "        l = []\n",
    "    l.append(1)\n",
    "    return l\n",
    "\n",
    "print(append1([]))\n",
    "print(append1([]))\n",
    "\n",
    "print('------')\n",
    "\n",
    "print(append1())\n",
    "print(append1())"
   ]
  },
  {
   "cell_type": "code",
   "execution_count": 27,
   "metadata": {},
   "outputs": [
    {
     "name": "stdout",
     "output_type": "stream",
     "text": "[1, 2, 3, 4]\n[1, 2, 3, 4]\n"
    }
   ],
   "source": [
    "m = [1,2,3]\n",
    "n = m\n",
    "m.append(4)\n",
    "print(m)\n",
    "print(n) #list是可变对象"
   ]
  },
  {
   "cell_type": "code",
   "execution_count": 30,
   "metadata": {},
   "outputs": [
    {
     "name": "stdout",
     "output_type": "stream",
     "text": "1234\n123\n"
    }
   ],
   "source": [
    "a = '123'\n",
    "b = a\n",
    "a = '1234'\n",
    "print(a)\n",
    "print(b) #字符串是不可变对象"
   ]
  }
 ]
}