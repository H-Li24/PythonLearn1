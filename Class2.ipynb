{
 "nbformat": 4,
 "nbformat_minor": 2,
 "metadata": {
  "language_info": {
   "name": "python",
   "codemirror_mode": {
    "name": "ipython",
    "version": 3
   },
   "version": "3.7.4-final"
  },
  "orig_nbformat": 2,
  "file_extension": ".py",
  "mimetype": "text/x-python",
  "name": "python",
  "npconvert_exporter": "python",
  "pygments_lexer": "ipython3",
  "version": 3,
  "kernelspec": {
   "name": "python3",
   "display_name": "Python 3"
  }
 },
 "cells": [
  {
   "cell_type": "markdown",
   "metadata": {},
   "source": [
    "## 算符和表达式"
   ]
  },
  {
   "cell_type": "markdown",
   "metadata": {},
   "source": [
    "### 算符\n",
    "\n",
    "算符是连接一个或多个元素的符号，用来表达运算。\n",
    "\n",
    "PS：\n",
    "如若需要，研究一下除法的rounding问题。"
   ]
  },
  {
   "cell_type": "markdown",
   "metadata": {},
   "source": [
    "### 算符和赋值的快速写法"
   ]
  },
  {
   "cell_type": "code",
   "execution_count": 64,
   "metadata": {},
   "outputs": [
    {
     "name": "stdout",
     "output_type": "stream",
     "text": "20\n"
    }
   ],
   "source": [
    "a = 10\n",
    "a = a + 10\n",
    "print(a)"
   ]
  },
  {
   "cell_type": "code",
   "execution_count": 2,
   "metadata": {},
   "outputs": [
    {
     "name": "stdout",
     "output_type": "stream",
     "text": "15\n"
    }
   ],
   "source": [
    "b = 10\n",
    "b += 5 #先将变量加值，再将和值赋回原变量\n",
    "print(b)"
   ]
  },
  {
   "cell_type": "code",
   "execution_count": 3,
   "metadata": {},
   "outputs": [
    {
     "name": "stdout",
     "output_type": "stream",
     "text": "5\n"
    }
   ],
   "source": [
    "c = 10\n",
    "c =+ 5 #错误写法，实际上相当于=赋值\n",
    "print(c)"
   ]
  },
  {
   "cell_type": "markdown",
   "metadata": {},
   "source": [
    "### 算符优先级（不严谨，方便记忆）\n",
    "\n",
    "1. 括号()\n",
    "2. 幂运算**\n",
    "3. 符号赋予+x, -x\n",
    "4. 乘法*，除法/，整除//（向下取整），求余%\n",
    "5. 加法+，减法-\n",
    "6. 与&，或|，非^\n",
    "7. <，>，>=，<=，==，!=\n",
    "8. 与and，或or,非not\n",
    "9. if-else\n",
    "\n",
    "原则：在每一级算符优先级的前提下从左到右计算"
   ]
  },
  {
   "cell_type": "code",
   "execution_count": 64,
   "metadata": {},
   "outputs": [
    {
     "name": "stdout",
     "output_type": "stream",
     "text": "1\n-2\n"
    }
   ],
   "source": [
    "print(4 // 3) #向下取整\n",
    "print(-4 // 3)"
   ]
  },
  {
   "cell_type": "markdown",
   "metadata": {},
   "source": [
    "### 练习\n",
    "\n",
    "计算以下表达式的求值顺序，并求值算出结果\n",
    "\n",
    "1. 1 + 8 <= 1 + 2 * 3\n",
    "\n",
    "    (1) 2 * 3 = 6\n",
    "\n",
    "    (2) 1 + 8 = 9\n",
    "\n",
    "    (3) 1 + 6 = 7\n",
    "\n",
    "    (4) 9 <= 7 = False\n",
    "\n",
    "2. 1 + 2 and 3 * 4 or 5 ** 6\n",
    "\n",
    "    (1) 5 ** 6 = 15625\n",
    "\n",
    "    (2) 3 * 4 = 12\n",
    "\n",
    "    (3) 1 + 2 = 3\n",
    "\n",
    "    (4) 3 and 12 = 12 #and中含0，返回0； 均为非0时，返回后一个值。\n",
    "\n",
    "    (5) 12 or 15625 = 12 #or中，至少有一个非0时，返回第一个非0"
   ]
  },
  {
   "cell_type": "markdown",
   "metadata": {},
   "source": [
    "### 表达式\n",
    "\n",
    "表达式为一串由算符连接的元素。\n",
    "\n",
    "表达式一般会有值，值按算符优先级依次求解表达式得到的结果。\n",
    "\n",
    "有些表达式（赋值）在语法上不可求值。\n",
    "\n",
    "表达式除了值以外，还可以能造成环境改变，或执行某些操作。"
   ]
  },
  {
   "cell_type": "code",
   "execution_count": 1,
   "metadata": {},
   "outputs": [
    {
     "name": "stdout",
     "output_type": "stream",
     "text": "area is 78.5\n"
    }
   ],
   "source": [
    "Pi = 3.14\n",
    "r = 5\n",
    "area = Pi * r * r\n",
    "print('area is {0}'.format(area))"
   ]
  },
  {
   "cell_type": "markdown",
   "metadata": {},
   "source": [
    "### 格式化字符串\n",
    "\n",
    "将变量的值格式化到字符串中，形成新的字符串。\n",
    "\n",
    "常用于输出数据内容。"
   ]
  },
  {
   "cell_type": "code",
   "execution_count": 2,
   "metadata": {},
   "outputs": [
    {
     "name": "stdout",
     "output_type": "stream",
     "text": "My name is henchli and the length of the name is 7.\nMy name is henchli and the length of the name is 7.\n"
    }
   ],
   "source": [
    "name = 'henchli'\n",
    "\n",
    "print('My name is {0} and the length of the name is {1}.'.format(name, len(name))) \n",
    "print('My name is %s and the length of the name is %d.' % (name, len(name))) #类c写法"
   ]
  },
  {
   "cell_type": "markdown",
   "metadata": {},
   "source": [
    "### 练习\n",
    "\n",
    "- 编写一行代码，打印出hello, world。\n",
    "- 假定有变量name，值为你的名字。编写代码打印出hello, \\[your name\\]。"
   ]
  },
  {
   "cell_type": "code",
   "execution_count": 7,
   "metadata": {},
   "outputs": [
    {
     "name": "stdout",
     "output_type": "stream",
     "text": "hello, world\nhello, henchli\n"
    }
   ],
   "source": [
    "print('hello, world')\n",
    "name = 'henchli'\n",
    "print('hello, %s' % name)"
   ]
  },
  {
   "cell_type": "markdown",
   "metadata": {},
   "source": [
    "## 执行流控制\n",
    "\n",
    "执行流控制代码，执行流的先后顺序。"
   ]
  },
  {
   "cell_type": "markdown",
   "metadata": {},
   "source": [
    "### 逻辑行和物理行\n",
    "\n",
    "Python语句执行以行为单位。每行可选的可以以分号 ; 结尾。\n",
    "\n",
    "但是物理上的一行可以包括多个执行单位，例如："
   ]
  },
  {
   "cell_type": "code",
   "execution_count": 8,
   "metadata": {},
   "outputs": [
    {
     "name": "stdout",
     "output_type": "stream",
     "text": "5\n"
    }
   ],
   "source": [
    "i = 5; print(i);"
   ]
  },
  {
   "cell_type": "markdown",
   "metadata": {},
   "source": [
    "同一个执行单位也可以拆分为多行（建议一行宽度不超过80），例如："
   ]
  },
  {
   "cell_type": "code",
   "execution_count": 10,
   "metadata": {},
   "outputs": [
    {
     "name": "stdout",
     "output_type": "stream",
     "text": "helloworld\n"
    }
   ],
   "source": [
    "print(\n",
    "    'helloworld'\n",
    ")"
   ]
  },
  {
   "cell_type": "markdown",
   "metadata": {},
   "source": [
    "### 格式对齐\n",
    "\n",
    "Python使用对齐表达逻辑。例如："
   ]
  },
  {
   "cell_type": "code",
   "execution_count": 12,
   "metadata": {},
   "outputs": [
    {
     "name": "stdout",
     "output_type": "stream",
     "text": "2\n------\n3\n4\n"
    }
   ],
   "source": [
    "a = 0\n",
    "if a == 1:\n",
    "    print('1')\n",
    "print('2')\n",
    "\n",
    "print('------')\n",
    "\n",
    "if a == 0:\n",
    "    print('3')\n",
    "print('4')"
   ]
  },
  {
   "cell_type": "code",
   "execution_count": 13,
   "metadata": {},
   "outputs": [
    {
     "name": "stdout",
     "output_type": "stream",
     "text": "------\n3\n4\n"
    }
   ],
   "source": [
    "a = 0\n",
    "if a == 1:\n",
    "    print('1')\n",
    "    print('2')\n",
    "\n",
    "print('------')\n",
    "\n",
    "if a == 0:\n",
    "    print('3')\n",
    "    print('4')"
   ]
  },
  {
   "cell_type": "markdown",
   "metadata": {},
   "source": [
    "单行写法（不推荐）"
   ]
  },
  {
   "cell_type": "code",
   "execution_count": 14,
   "metadata": {},
   "outputs": [
    {
     "name": "stdout",
     "output_type": "stream",
     "text": "ok\n"
    }
   ],
   "source": [
    "if True: print('ok')"
   ]
  },
  {
   "cell_type": "markdown",
   "metadata": {},
   "source": [
    "### if\n",
    "\n",
    "if 的麻烦写法："
   ]
  },
  {
   "cell_type": "code",
   "execution_count": 21,
   "metadata": {},
   "outputs": [
    {
     "name": "stdout",
     "output_type": "stream",
     "text": "Congratulations, you guessed it.\nDone\n"
    }
   ],
   "source": [
    "number = 23\n",
    "\n",
    "guess = int(input('Enter an integer : '))\n",
    "if guess == number:\n",
    "    print('Congratulations, you guessed it.')\n",
    "else:\n",
    "    if guess < number:\n",
    "        print('No, it is a little higher than that.')\n",
    "    else:\n",
    "        print('No, it is a little lower than that.')\n",
    "print('Done')"
   ]
  },
  {
   "cell_type": "markdown",
   "metadata": {},
   "source": [
    "这种写法很容易让逻辑行超过80字符，衍生出elif的写法："
   ]
  },
  {
   "cell_type": "code",
   "execution_count": 26,
   "metadata": {},
   "outputs": [
    {
     "name": "stdout",
     "output_type": "stream",
     "text": "No, it is a little higher than that.\nDone\n"
    }
   ],
   "source": [
    "number = 23\n",
    "\n",
    "guess = int(input('Enter an integer : '))\n",
    "if guess == number:\n",
    "    print('Congratulations, you guessed it.')\n",
    "elif guess < number:\n",
    "    print('No, it is a little higher than that.')\n",
    "else:\n",
    "    print('No, it is a little lower than that.')\n",
    "print('Done')"
   ]
  },
  {
   "cell_type": "markdown",
   "metadata": {},
   "source": [
    "PS：可以使用pdb来判断分支逻辑"
   ]
  },
  {
   "cell_type": "markdown",
   "metadata": {},
   "source": [
    "### while\n",
    "\n",
    "while是条件循环，设定初始化，使得代码在循环体内循环"
   ]
  },
  {
   "cell_type": "code",
   "execution_count": 30,
   "metadata": {},
   "outputs": [
    {
     "name": "stdout",
     "output_type": "stream",
     "text": "0\n1\n2\n3\n4\n5\n6\n7\n8\n9\n"
    }
   ],
   "source": [
    "i = 0\n",
    "while i < 10:\n",
    "    print(i)\n",
    "    i += 1"
   ]
  },
  {
   "cell_type": "code",
   "execution_count": 33,
   "metadata": {},
   "outputs": [
    {
     "name": "stdout",
     "output_type": "stream",
     "text": "Congradulations, you guessed it.\nThe whole loop is over.\n"
    }
   ],
   "source": [
    "number = 23\n",
    "running = True\n",
    "while running:\n",
    "    guess = int(input('Enter an integer : '))\n",
    "    if guess == number:\n",
    "        print('Congradulations, you guessed it.')\n",
    "        running = False #通过状态退出循环\n",
    "    elif guess < number:\n",
    "        print('No, it is a little higher than that.')\n",
    "    else:\n",
    "        print('No, it is a little lower than that.')\n",
    "else:\n",
    "    print('The whole loop is over.')\n",
    "print('Done')"
   ]
  },
  {
   "cell_type": "markdown",
   "metadata": {},
   "source": [
    "### for\n",
    "\n",
    "for的目的是枚举某一种的对象"
   ]
  },
  {
   "cell_type": "code",
   "execution_count": 35,
   "metadata": {},
   "outputs": [
    {
     "name": "stdout",
     "output_type": "stream",
     "text": "1\n2\n3\n4\nThe loop is over.\n"
    }
   ],
   "source": [
    "for i in range(1,5):#range(1,5)左闭右开\n",
    "    print(i)\n",
    "else:\n",
    "    print('The loop is over.')"
   ]
  },
  {
   "cell_type": "markdown",
   "metadata": {},
   "source": [
    "### break"
   ]
  },
  {
   "cell_type": "code",
   "execution_count": 39,
   "metadata": {},
   "outputs": [
    {
     "name": "stdout",
     "output_type": "stream",
     "text": "Done\n"
    }
   ],
   "source": [
    "while True:\n",
    "    s = input('Enter something : ')\n",
    "    if s == 'quit':\n",
    "        break\n",
    "    print('Length of the string is %d' % len(s))\n",
    "print('Done')"
   ]
  },
  {
   "cell_type": "code",
   "execution_count": 40,
   "metadata": {},
   "outputs": [
    {
     "name": "stdout",
     "output_type": "stream",
     "text": "Congradulations, you guessed it.\nDone\n"
    }
   ],
   "source": [
    "number = 23\n",
    "running = True\n",
    "while running:\n",
    "    guess = int(input('Enter an integer : '))\n",
    "    if guess == number:\n",
    "        print('Congradulations, you guessed it.')\n",
    "        break #break会跳出else\n",
    "    elif guess < number:\n",
    "        print('No, it is a little higher than that.')\n",
    "    else:\n",
    "        print('No, it is a little lower than that.')\n",
    "else:\n",
    "    print('The whole loop is over.')\n",
    "print('Done')"
   ]
  },
  {
   "cell_type": "markdown",
   "metadata": {},
   "source": [
    "### continue"
   ]
  },
  {
   "cell_type": "code",
   "execution_count": 43,
   "metadata": {},
   "outputs": [
    {
     "name": "stdout",
     "output_type": "stream",
     "text": "Too small\nToo small\nToo small\nToo small\nToo small\nToo small\nInput is of sufficient length\nInput is of sufficient length\n"
    }
   ],
   "source": [
    "while True:\n",
    "    s = input('Enter something : ')\n",
    "    if s == 'quit':\n",
    "        break\n",
    "    if len(s) < 3:\n",
    "        print('Too small')\n",
    "        continue\n",
    "    print('Input is of sufficient length')\n"
   ]
  },
  {
   "cell_type": "markdown",
   "metadata": {},
   "source": [
    "### 练习\n",
    "\n",
    "说出下列代码的执行过程和输出结果："
   ]
  },
  {
   "cell_type": "code",
   "execution_count": 62,
   "metadata": {},
   "outputs": [
    {
     "name": "stdout",
     "output_type": "stream",
     "text": "5\n6\n7\n8\n9\n"
    }
   ],
   "source": [
    "for i in range(12):\n",
    "    if i < 5:\n",
    "        continue\n",
    "    elif i > 9:\n",
    "        break\n",
    "    else:\n",
    "        print(i)"
   ]
  }
 ]
}