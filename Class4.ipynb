{
 "nbformat": 4,
 "nbformat_minor": 2,
 "metadata": {
  "language_info": {
   "name": "python",
   "codemirror_mode": {
    "name": "ipython",
    "version": 3
   },
   "version": "3.7.4-final"
  },
  "orig_nbformat": 2,
  "file_extension": ".py",
  "mimetype": "text/x-python",
  "name": "python",
  "npconvert_exporter": "python",
  "pygments_lexer": "ipython3",
  "version": 3,
  "kernelspec": {
   "name": "python3",
   "display_name": "Python 3"
  }
 },
 "cells": [
  {
   "cell_type": "markdown",
   "metadata": {},
   "source": [
    "### 返回值\n",
    "\n",
    "将函数内数据传递回去。\n",
    "\n",
    "每一项函数完成一项功能，然后函数与函数通过组装完成另一项功能。函数要专注于其名称所代表的功能。\n",
    "\n"
   ]
  },
  {
   "cell_type": "code",
   "execution_count": 62,
   "metadata": {},
   "outputs": [
    {
     "name": "stdout",
     "output_type": "stream",
     "text": "3\nThe numbers are equal.\n"
    }
   ],
   "source": [
    "def maximum(x,y):\n",
    "    if x > y:\n",
    "        return x\n",
    "    elif x == y:\n",
    "        return \"The numbers are equal.\" #这个写法不好，删掉这段\n",
    "    else:\n",
    "        return y\n",
    "print(maximum(2,3))\n",
    "print(maximum(2,2))"
   ]
  },
  {
   "cell_type": "code",
   "execution_count": null,
   "metadata": {},
   "outputs": [],
   "source": [
    "最小惊讶原则\n",
    "\n",
    "设计函数时，希望输入和输出都是符合常识的。\n",
    "\n",
    "如果要出错，尽量趁早。\n",
    "\n",
    "多个返回值的数据类型要一致。"
   ]
  },
  {
   "cell_type": "code",
   "execution_count": 3,
   "metadata": {},
   "outputs": [
    {
     "name": "stdout",
     "output_type": "stream",
     "text": "3\n2\n"
    }
   ],
   "source": [
    "def maximum(x,y):\n",
    "    if x > y:\n",
    "        return x\n",
    "    else:\n",
    "        return y\n",
    "print(maximum(2,3))\n",
    "print(maximum(2,2))"
   ]
  },
  {
   "cell_type": "markdown",
   "metadata": {},
   "source": [
    "### 多值返回\n",
    "\n",
    "Python允许一次返回多个值。\n",
    "多值返回的本质是使用tuple中转。"
   ]
  },
  {
   "cell_type": "code",
   "execution_count": 63,
   "metadata": {},
   "outputs": [
    {
     "name": "stdout",
     "output_type": "stream",
     "text": "(1, 2, 3, 4, 5)\n3\n"
    }
   ],
   "source": [
    "def f():\n",
    "    return 1,2,3,4,5\n",
    "print(f())\n",
    "\n",
    "a,b,c,d,e = f()\n",
    "print(c)"
   ]
  },
  {
   "cell_type": "markdown",
   "metadata": {},
   "source": [
    "### Doc String\n",
    "\n",
    "Python允许为每个函数增加一个文档字符串，这个文档字符串可以被代码访问。\n",
    "\n",
    "具体方式是，在函数的第一个逻辑行定义一个字符串（建议使用'''）。\n",
    "\n",
    "访问方式是function.\\_\\_doc\\_\\_。"
   ]
  },
  {
   "cell_type": "code",
   "execution_count": 12,
   "metadata": {},
   "outputs": [
    {
     "name": "stdout",
     "output_type": "stream",
     "text": "5 is maximum\nPrints the maximum of two numbers. \nThe two values must be integers.\n"
    }
   ],
   "source": [
    "def print_max(x,y):\n",
    "    '''Prints the maximum of two numbers. \\nThe two values must be integers.'''\n",
    "    x = int(x)\n",
    "    y = int(y)\n",
    "    if x > y:\n",
    "        print('{} is maximum'.format(x))\n",
    "    else:\n",
    "        print('{} is maximum'.format(y))\n",
    "print_max(3,5)\n",
    "print(print_max.__doc__)"
   ]
  },
  {
   "cell_type": "markdown",
   "metadata": {},
   "source": [
    "### lambda\n",
    "\n",
    "一种快速定义简单函数的方法。\n",
    "\n",
    "lambda是一个匿名函数。可以消除给函数起名起名的烦恼。"
   ]
  },
  {
   "cell_type": "code",
   "execution_count": 15,
   "metadata": {},
   "outputs": [
    {
     "name": "stdout",
     "output_type": "stream",
     "text": "11\n11\n"
    }
   ],
   "source": [
    "def inc1(n):\n",
    "    return n + 1\n",
    "print(inc1(10))\n",
    "\n",
    "inc2 = lambda n : n+1\n",
    "print(inc2(10))"
   ]
  },
  {
   "cell_type": "code",
   "execution_count": 42,
   "metadata": {},
   "outputs": [
    {
     "data": {
      "text/plain": "21"
     },
     "execution_count": 42,
     "metadata": {},
     "output_type": "execute_result"
    }
   ],
   "source": [
    "(lambda n : n+1)(20)"
   ]
  },
  {
   "cell_type": "code",
   "execution_count": 110,
   "metadata": {},
   "outputs": [
    {
     "name": "stdout",
     "output_type": "stream",
     "text": "1\n4\n9\n16\n"
    }
   ],
   "source": [
    "a = lambda x: x**2\n",
    "\n",
    "for i in range(1,5):\n",
    "    print(a(i))"
   ]
  },
  {
   "cell_type": "markdown",
   "metadata": {},
   "source": [
    "### 斐波那契数列"
   ]
  },
  {
   "cell_type": "code",
   "execution_count": 35,
   "metadata": {},
   "outputs": [
    {
     "name": "stdout",
     "output_type": "stream",
     "text": "13\nThis code is writed by henchli.\n"
    }
   ],
   "source": [
    "def fib1(n):\n",
    "    '''This code is written by henchli.'''\n",
    "    list_1 = [1, 1]\n",
    "    for i in range(2,n):\n",
    "        sum = list_1[i-2] + list_1[i-1]\n",
    "        list_1.append(sum)\n",
    "    return list_1[n-1]\n",
    "print(fib1(7))\n",
    "print(fib1.__doc__)"
   ]
  },
  {
   "cell_type": "code",
   "execution_count": 47,
   "metadata": {},
   "outputs": [
    {
     "data": {
      "text/plain": "13"
     },
     "execution_count": 47,
     "metadata": {},
     "output_type": "execute_result"
    }
   ],
   "source": [
    "def fib2(n):\n",
    "    '''This code is witten by shell.'''\n",
    "    if n <= 1: return\n",
    "    return fib(n-1) + fib(n-2) #递归\n",
    "\n",
    "fib2(7)"
   ]
  },
  {
   "cell_type": "markdown",
   "metadata": {},
   "source": [
    "### 模块（Module）\n",
    "\n",
    "预先写好的代码，供其他代码使用。\n",
    "\n",
    "一个module是一个独立文件。\n",
    "\n",
    "每个module拥有自己的全局变量空间。数据定义，函数，均定义在其中。"
   ]
  },
  {
   "cell_type": "code",
   "execution_count": 64,
   "metadata": {},
   "outputs": [
    {
     "name": "stdout",
     "output_type": "stream",
     "text": "Overwriting testmod.py\n"
    }
   ],
   "source": [
    "%%writefile testmod.py\n",
    "variable1 = 1\n",
    "variable2 = 2\n",
    "\n",
    "def add(a,b):\n",
    "    return a + b\n",
    "print(__name__)\n",
    "\n",
    "if __name__ == '__main__':\n",
    "    print('run as script')"
   ]
  },
  {
   "cell_type": "code",
   "execution_count": 83,
   "metadata": {},
   "outputs": [
    {
     "name": "stdout",
     "output_type": "stream",
     "text": "Overwriting const.py\n"
    }
   ],
   "source": [
    "%%writefile const.py\n",
    "PI = 3.14\n",
    "\n",
    "def not_main():\n",
    "    print(\"PI:\", PI)\n",
    "\n",
    "# 这下面都是“主函数”\n",
    "not_main()\n",
    "print('This is the conent of main function.')"
   ]
  },
  {
   "cell_type": "code",
   "execution_count": 84,
   "metadata": {},
   "outputs": [
    {
     "name": "stdout",
     "output_type": "stream",
     "text": "Overwriting area.py\n"
    }
   ],
   "source": [
    "%%writefile area.py\n",
    "from const import PI\n",
    "\n",
    "def calc_round_area(radius):\n",
    "    return PI * (radius ** 2)\n",
    "\n",
    "def main():\n",
    "    print(\"round area: \", calc_round_area(2))\n",
    "\n",
    "main()"
   ]
  },
  {
   "cell_type": "markdown",
   "metadata": {},
   "source": [
    "在命令行中运行代码。神奇的是，虽然我们只是导入了const模块中的变量PI，但是它首先运行了const.py整个函数的代码，然后再运行area.py。\n",
    "\n",
    "如果要避免这种情况，就必须加上 `if __name__ == \"__main__\"`，把所谓“主函数”的部分单独括起来。"
   ]
  },
  {
   "cell_type": "code",
   "execution_count": 93,
   "metadata": {},
   "outputs": [
    {
     "name": "stdout",
     "output_type": "stream",
     "text": "Overwriting const2.py\n"
    }
   ],
   "source": [
    "%%writefile const2.py\n",
    "PI = 3.14\n",
    "\n",
    "def not_main():\n",
    "    print(\"PI:\", PI)\n",
    "\n",
    "# 这下面都是“主函数”\n",
    "if __name__ == '__main__':\n",
    "    not_main()\n",
    "    print('This is the conent of main function.')"
   ]
  },
  {
   "cell_type": "code",
   "execution_count": 94,
   "metadata": {},
   "outputs": [
    {
     "name": "stdout",
     "output_type": "stream",
     "text": "Overwriting area2.py\n"
    }
   ],
   "source": [
    "%%writefile area2.py\n",
    "from const2 import PI\n",
    "\n",
    "def calc_round_area(radius):\n",
    "    return PI * (radius ** 2)\n",
    "\n",
    "def main():\n",
    "    print(\"round area: \", calc_round_area(2))\n",
    "\n",
    "main()"
   ]
  },
  {
   "cell_type": "markdown",
   "metadata": {},
   "source": [
    "### \\_\\_name\\_\\_\n",
    "\n",
    "`__name__` 是内置变量，用于表示当前模块的名字。当模块被import时，`__name__`被设置成文件名。如果一个模块被直接运行，则其没有包结构，其 `__name__` 值为 `__main__`。"
   ]
  },
  {
   "cell_type": "code",
   "execution_count": 90,
   "metadata": {},
   "outputs": [
    {
     "name": "stdout",
     "output_type": "stream",
     "text": "Overwriting __name__test.py\n"
    }
   ],
   "source": [
    "%%writefile __name__test.py\n",
    "def main():\n",
    "    print(__name__)\n",
    "\n",
    "main()\n",
    "print(__name__)"
   ]
  },
  {
   "cell_type": "code",
   "execution_count": 105,
   "metadata": {},
   "outputs": [
    {
     "name": "stdout",
     "output_type": "stream",
     "text": "Overwriting __name__test2.py\n"
    }
   ],
   "source": [
    "%%writefile __name__test2.py\n",
    "PI = 3.14\n",
    "\n",
    "if __name__ == '__main__':\n",
    "    print('module name is : ', __name__)\n",
    "else:\n",
    "    print('module name is : ', __name__)"
   ]
  },
  {
   "cell_type": "code",
   "execution_count": 106,
   "metadata": {},
   "outputs": [
    {
     "name": "stdout",
     "output_type": "stream",
     "text": "Overwriting const3.py\n"
    }
   ],
   "source": [
    "%%writefile const3.py\n",
    "from __name__test2 import PI\n",
    "\n",
    "print(PI)"
   ]
  },
  {
   "cell_type": "code",
   "execution_count": 66,
   "metadata": {},
   "outputs": [
    {
     "name": "stderr",
     "output_type": "stream",
     "text": "python: can't open file 'testmod.py': [Errno 2] No such file or directory\n"
    }
   ],
   "source": [
    "!python testmod.py"
   ]
  },
  {
   "cell_type": "markdown",
   "metadata": {},
   "source": [
    "### import\n",
    "\n",
    "import引入某个module对象，可使用module.name的方式引用它的全局变量。\n",
    "\n",
    "module可以作为脚本运行。\n",
    "\n",
    "import（当前文件夹下的）文件名。系统中自带很多API库。如果要调用系统的模块，不能当前文件夹下创建同名模块。"
   ]
  },
  {
   "cell_type": "code",
   "execution_count": 54,
   "metadata": {},
   "outputs": [
    {
     "data": {
      "text/plain": "1"
     },
     "execution_count": 54,
     "metadata": {},
     "output_type": "execute_result"
    }
   ],
   "source": [
    "import testmod\n",
    "testmod.variable1"
   ]
  },
  {
   "cell_type": "code",
   "execution_count": 56,
   "metadata": {},
   "outputs": [
    {
     "data": {
      "text/plain": "<module 'testmod' from 'c:\\\\Users\\\\henchli\\\\Desktop\\\\Python\\\\PythonLearning\\\\testmod.py'>"
     },
     "execution_count": 56,
     "metadata": {},
     "output_type": "execute_result"
    }
   ],
   "source": [
    "import testmod\n",
    "testmod #引入了一个全局变量"
   ]
  },
  {
   "cell_type": "markdown",
   "metadata": {},
   "source": [
    "### from import\n",
    "\n",
    "from import引入模块中的某个（或全部）变量。\n",
    "被引入变量不需要module.name来访问，仅需要name。（不建议频繁使用，因为会造成变量无法溯源）\n",
    "\n",
    "\n",
    "注意：不推荐引入全部变量，会引起名称空间污染。"
   ]
  },
  {
   "cell_type": "code",
   "execution_count": 58,
   "metadata": {},
   "outputs": [
    {
     "data": {
      "text/plain": "2"
     },
     "execution_count": 58,
     "metadata": {},
     "output_type": "execute_result"
    }
   ],
   "source": [
    "from testmod import variable2\n",
    "variable2"
   ]
  },
  {
   "cell_type": "markdown",
   "metadata": {},
   "source": [
    "### dir \n",
    "\n",
    "列出某个模块的所有变量。"
   ]
  },
  {
   "cell_type": "code",
   "execution_count": 61,
   "metadata": {},
   "outputs": [
    {
     "data": {
      "text/plain": "['__builtins__',\n '__cached__',\n '__doc__',\n '__file__',\n '__loader__',\n '__name__',\n '__package__',\n '__spec__',\n 'add',\n 'variable1',\n 'variable2']"
     },
     "execution_count": 61,
     "metadata": {},
     "output_type": "execute_result"
    }
   ],
   "source": [
    "import testmod\n",
    "dir(testmod)"
   ]
  },
  {
   "cell_type": "markdown",
   "metadata": {},
   "source": [
    "### 额外加餐题"
   ]
  },
  {
   "cell_type": "code",
   "execution_count": 112,
   "metadata": {},
   "outputs": [
    {
     "name": "stdout",
     "output_type": "stream",
     "text": "True\nFalse\nTrue\n"
    }
   ],
   "source": [
    "print(2.0 - 1.0 == 1.0) \n",
    "print(1.2 - 1.0 == 0.2)\n",
    "print(2 - 1 == 1)"
   ]
  },
  {
   "cell_type": "code",
   "execution_count": 115,
   "metadata": {},
   "outputs": [
    {
     "data": {
      "text/plain": "0.19999999999999996"
     },
     "execution_count": 115,
     "metadata": {},
     "output_type": "execute_result"
    }
   ],
   "source": [
    "1.2 - 1.0"
   ]
  }
 ]
}