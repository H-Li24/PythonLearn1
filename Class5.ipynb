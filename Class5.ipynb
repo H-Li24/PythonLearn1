{
 "nbformat": 4,
 "nbformat_minor": 2,
 "metadata": {
  "language_info": {
   "name": "python",
   "codemirror_mode": {
    "name": "ipython",
    "version": 3
   },
   "version": "3.7.4-final"
  },
  "orig_nbformat": 2,
  "file_extension": ".py",
  "mimetype": "text/x-python",
  "name": "python",
  "npconvert_exporter": "python",
  "pygments_lexer": "ipython3",
  "version": 3,
  "kernelspec": {
   "name": "python3",
   "display_name": "Python 3"
  }
 },
 "cells": [
  {
   "cell_type": "markdown",
   "metadata": {},
   "source": [
    "### 模块预编译\n",
    "\n",
    "当import时，python会试图编译出pyc文件。\n",
    "\n",
    "pyc是被编译py文件，加载pyc文件可以跳过语法编译过程。\n",
    "\n",
    "当py日期新于pyc时，重新生成pyc。所以日期紊乱可以导致执行老代码。\n",
    "\n",
    "在Python3中，会在当前目录生成`__pycache___`目录，来缓存pyc文件。\n",
    "\n",
    "这样可以避免多个Python解释器无法互相载入对方的pyc文件。"
   ]
  },
  {
   "cell_type": "markdown",
   "metadata": {},
   "source": [
    "### `__name__`属性\n",
    "\n",
    "模块有一个属性，`__name__`。当这个属性为`__main__`时，说明当前模块作为脚本运行。模块被作为脚本运行时，不生成pyc文件（因为不是import）。"
   ]
  },
  {
   "cell_type": "code",
   "execution_count": 28,
   "metadata": {},
   "outputs": [
    {
     "name": "stdout",
     "output_type": "stream",
     "text": "Overwriting testmod.py\n"
    }
   ],
   "source": [
    "%%writefile testmod.py\n",
    "variable1 = 1\n",
    "variable2 = 2\n",
    "print('hello, testmod.') \n",
    "\n",
    "def add():\n",
    "    return variable1 + variable2\n",
    "\n",
    "if __name__ == '__main__':\n",
    "    print(add()) "
   ]
  },
  {
   "cell_type": "code",
   "execution_count": 25,
   "metadata": {},
   "outputs": [],
   "source": [
    "import testmod"
   ]
  },
  {
   "cell_type": "code",
   "execution_count": 19,
   "metadata": {},
   "outputs": [
    {
     "name": "stdout",
     "output_type": "stream",
     "text": "The Zen of Python, by Tim Peters\n\nBeautiful is better than ugly.\nExplicit is better than implicit.\nSimple is better than complex.\nComplex is better than complicated.\nFlat is better than nested.\nSparse is better than dense.\nReadability counts.\nSpecial cases aren't special enough to break the rules.\nAlthough practicality beats purity.\nErrors should never pass silently.\nUnless explicitly silenced.\nIn the face of ambiguity, refuse the temptation to guess.\nThere should be one-- and preferably only one --obvious way to do it.\nAlthough that way may not be obvious at first unless you're Dutch.\nNow is better than never.\nAlthough never is often better than *right* now.\nIf the implementation is hard to explain, it's a bad idea.\nIf the implementation is easy to explain, it may be a good idea.\nNamespaces are one honking great idea -- let's do more of those!\n"
    }
   ],
   "source": [
    "import this"
   ]
  },
  {
   "cell_type": "code",
   "execution_count": 12,
   "metadata": {},
   "outputs": [
    {
     "data": {
      "text/plain": "'testmod'"
     },
     "execution_count": 12,
     "metadata": {},
     "output_type": "execute_result"
    }
   ],
   "source": [
    "testmod.__name__"
   ]
  },
  {
   "cell_type": "code",
   "execution_count": 13,
   "metadata": {},
   "outputs": [
    {
     "data": {
      "text/plain": "'testmod'"
     },
     "execution_count": 13,
     "metadata": {},
     "output_type": "execute_result"
    }
   ],
   "source": [
    "t = testmod\n",
    "t.__name__"
   ]
  },
  {
   "cell_type": "markdown",
   "metadata": {},
   "source": [
    "脚本可以import自己。"
   ]
  },
  {
   "cell_type": "code",
   "execution_count": null,
   "metadata": {},
   "outputs": [],
   "source": []
  },
  {
   "cell_type": "markdown",
   "metadata": {},
   "source": [
    "### main文件模式化写法\n",
    "\n",
    "`if __name__ == '__main__':`"
   ]
  },
  {
   "cell_type": "code",
   "execution_count": 29,
   "metadata": {},
   "outputs": [],
   "source": [
    "### Package\n",
    "\n",
    "从组织结构上说，package是比module更大一级的结构。\n",
    "\n",
    "一个package里可以包含多个modules和packages。\n",
    "\n",
    "一般一个package是一个独立目录，里面有`__init__.py`文件。`__init__`控制整个package的使用。\n",
    "\n",
    "这个文件指明了如何加载整个package。"
   ]
  },
  {
   "cell_type": "code",
   "execution_count": 30,
   "metadata": {},
   "outputs": [
    {
     "data": {
      "text/plain": "['/tmp/d5f736ce-b5cc-40a1-873b-c94f48713051',\n '/home/henchli/.vscode/extensions/ms-python.python-2020.2.64397/pythonFiles',\n '/home/henchli/.vscode/extensions/ms-python.python-2020.2.64397/pythonFiles/lib/python',\n '/home/henchli/anaconda3/lib/python37.zip',\n '/home/henchli/anaconda3/lib/python3.7',\n '/home/henchli/anaconda3/lib/python3.7/lib-dynload',\n '',\n '/home/henchli/anaconda3/lib/python3.7/site-packages',\n '/home/henchli/anaconda3/lib/python3.7/site-packages/IPython/extensions',\n '/home/henchli/.ipython']"
     },
     "execution_count": 30,
     "metadata": {},
     "output_type": "execute_result"
    }
   ],
   "source": [
    "import sys\n",
    "sys.path"
   ]
  },
  {
   "cell_type": "markdown",
   "metadata": {},
   "source": [
    "### 练习\n",
    "\n",
    "- 导入系统sys模块\n",
    "\n",
    "- 列出sys模块中以s开头并且以e结尾的成员。"
   ]
  },
  {
   "cell_type": "code",
   "execution_count": 37,
   "metadata": {},
   "outputs": [
    {
     "name": "stdout",
     "output_type": "stream",
     "text": "True\nFalse\nTrue\n"
    }
   ],
   "source": [
    "print('abc'.startswith('a'))\n",
    "print('abc'.endswith(\"a\"))\n",
    "print('abc'.endswith(\"c\"))"
   ]
  },
  {
   "cell_type": "code",
   "execution_count": 42,
   "metadata": {},
   "outputs": [
    {
     "name": "stdout",
     "output_type": "stream",
     "text": "<class 'list'>\n"
    }
   ],
   "source": [
    "allmembers = dir(sys)\n",
    "print(type(allmembers))"
   ]
  },
  {
   "cell_type": "code",
   "execution_count": 41,
   "metadata": {},
   "outputs": [
    {
     "data": {
      "text/plain": "'__breakpointhook__'"
     },
     "execution_count": 41,
     "metadata": {},
     "output_type": "execute_result"
    }
   ],
   "source": [
    "members[0]"
   ]
  },
  {
   "cell_type": "code",
   "execution_count": 46,
   "metadata": {},
   "outputs": [
    {
     "name": "stdout",
     "output_type": "stream",
     "text": "['setprofile', 'settrace']\n"
    }
   ],
   "source": [
    "selectedmembers = []\n",
    "\n",
    "for i in range(0, len(allmembers)):\n",
    "    if allmembers[i].startswith(\"s\") and allmembers[i].endswith('e'):\n",
    "        selectedmembers.append(allmembers[i])\n",
    "\n",
    "print(selectedmembers)"
   ]
  },
  {
   "cell_type": "code",
   "execution_count": 50,
   "metadata": {},
   "outputs": [
    {
     "name": "stdout",
     "output_type": "stream",
     "text": "setprofile\nsettrace\n"
    }
   ],
   "source": [
    "import sys\n",
    "for name in dir(sys): #直接对列表元素循环\n",
    "    if name.startswith('s') and name.endswith('e'):\n",
    "        print(name)"
   ]
  },
  {
   "cell_type": "markdown",
   "metadata": {},
   "source": [
    "### 加餐习题"
   ]
  },
  {
   "cell_type": "code",
   "execution_count": 3,
   "metadata": {},
   "outputs": [
    {
     "name": "stdout",
     "output_type": "stream",
     "text": "False\nFalse\n<class 'bytes'>\n"
    }
   ],
   "source": [
    "a = '123'\n",
    "b = b'123'\n",
    "print(a == b)\n",
    "print(type(a) == type(b))\n",
    "\n",
    "print(type(b))"
   ]
  },
  {
   "cell_type": "code",
   "execution_count": 4,
   "metadata": {},
   "outputs": [
    {
     "name": "stdout",
     "output_type": "stream",
     "text": "True\nTrue\n<class 'str'>\n"
    }
   ],
   "source": [
    "a = '武汉加油'\n",
    "b = u'武汉加油'\n",
    "print(a == b)\n",
    "print(type(a) == type(b))\n",
    "\n",
    "print(type(b))"
   ]
  },
  {
   "cell_type": "code",
   "execution_count": 5,
   "metadata": {},
   "outputs": [
    {
     "ename": "SyntaxError",
     "evalue": "bytes can only contain ASCII literal characters. (<ipython-input-5-a5a1294736c4>, line 2)",
     "output_type": "error",
     "traceback": [
      "\u001b[0;36m  File \u001b[0;32m\"<ipython-input-5-a5a1294736c4>\"\u001b[0;36m, line \u001b[0;32m2\u001b[0m\n\u001b[0;31m    b = b'武汉加油'\u001b[0m\n\u001b[0m       ^\u001b[0m\n\u001b[0;31mSyntaxError\u001b[0m\u001b[0;31m:\u001b[0m bytes can only contain ASCII literal characters.\n"
     ]
    }
   ],
   "source": [
    "a = '武汉加油'\n",
    "b = b'武汉加油'\n",
    "print(a == b)\n",
    "print(type(a) == type(b))\n",
    "\n",
    "print(type(b))"
   ]
  },
  {
   "cell_type": "code",
   "execution_count": 6,
   "metadata": {},
   "outputs": [
    {
     "data": {
      "text/plain": "12"
     },
     "execution_count": 6,
     "metadata": {},
     "output_type": "execute_result"
    }
   ],
   "source": [
    "1 + 1 and 3 * 4 or 5 - 6 "
   ]
  },
  {
   "cell_type": "code",
   "execution_count": 8,
   "metadata": {},
   "outputs": [
    {
     "data": {
      "text/plain": "-1"
     },
     "execution_count": 8,
     "metadata": {},
     "output_type": "execute_result"
    }
   ],
   "source": [
    "1 - 1 or 3 * 4 and 5 - 6"
   ]
  },
  {
   "cell_type": "code",
   "execution_count": 14,
   "metadata": {},
   "outputs": [
    {
     "name": "stdout",
     "output_type": "stream",
     "text": "12\n2\n0\n0\n"
    }
   ],
   "source": [
    "print(1 + 1 and 3 * 4)\n",
    "print(3 * 4 and 1 + 1) #同为真取后\n",
    "print(1 - 1 and 3 * 4)\n",
    "print(3 * 4 and 0)  #有假则取假"
   ]
  },
  {
   "cell_type": "code",
   "execution_count": 16,
   "metadata": {},
   "outputs": [
    {
     "name": "stdout",
     "output_type": "stream",
     "text": "12\n12\n2\n12\n"
    }
   ],
   "source": [
    "print(1 -1 or 3 * 4) #有真则为真\n",
    "print(3 * 4 or 1 -1 )\n",
    "print(1 + 1 or 3 * 4) #同为真取前\n",
    "print(3 * 4 or 1 + 1)"
   ]
  },
  {
   "cell_type": "code",
   "execution_count": 21,
   "metadata": {},
   "outputs": [
    {
     "name": "stdout",
     "output_type": "stream",
     "text": "False\nTrue\nb'\\xe4\\xb8\\xad\\xe5\\x9b\\xbd'\n6\n"
    }
   ],
   "source": [
    "a = '12'\n",
    "b = '中国'\n",
    "print(len(a) == len(b.encode()))\n",
    "print(len(a) == len(b))\n",
    "\n",
    "print(b.encode())\n",
    "print(len(b.encode()))"
   ]
  }
 ]
}