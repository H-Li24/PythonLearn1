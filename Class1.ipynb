{
 "nbformat": 4,
 "nbformat_minor": 2,
 "metadata": {
  "language_info": {
   "name": "python",
   "codemirror_mode": {
    "name": "ipython",
    "version": 3
   },
   "version": "3.7.4-final"
  },
  "orig_nbformat": 2,
  "file_extension": ".py",
  "mimetype": "text/x-python",
  "name": "python",
  "npconvert_exporter": "python",
  "pygments_lexer": "ipython3",
  "version": 3,
  "kernelspec": {
   "name": "python3",
   "display_name": "Python 3"
  }
 },
 "cells": [
  {
   "cell_type": "markdown",
   "metadata": {},
   "source": [
    "### 基本类型\n",
    "- 注释：以#开头的为注释，直到行结束为止。无多行注释。\n",
    "- 数字：以数字， . 或者 - 开头的为浮点数。带小数点的为浮点数( 1. )，不带小数点的为整数（ 1 ）。支持科学计数法（ 5.23E-3 ）。\n",
    "- 字符串：计算机不能直接处理字符，需要编码成一串数字，因此需要输入字符串。以单引号（ ' ），双引号（ \" ），三引号（ ''' ）开始，以同样符号结束。\n",
    "- 布尔值：只有两个，True和False。大小写敏感。\n",
    "- 空值：只有一个，None。大小写敏感。表示没有值的值。"
   ]
  },
  {
   "cell_type": "markdown",
   "metadata": {},
   "source": [
    "练习：写出数字和字符串的例子，并加以注释。"
   ]
  },
  {
   "cell_type": "code",
   "execution_count": 4,
   "metadata": {},
   "outputs": [
    {
     "name": "stdout",
     "output_type": "stream",
     "text": "1\n1.0\n0.0025\n-3.14e-05\n"
    }
   ],
   "source": [
    "print(1)\n",
    "print(1.)\n",
    "print(2.5E-3)\n",
    "print(-3.14E-5)"
   ]
  },
  {
   "cell_type": "code",
   "execution_count": 7,
   "metadata": {},
   "outputs": [
    {
     "name": "stdout",
     "output_type": "stream",
     "text": "Helloworld\nHelloworldAgain\nHelloworldOnceMore\n"
    }
   ],
   "source": [
    "print('Helloworld')\n",
    "print(\"HelloworldAgain\")\n",
    "print('''HelloworldOnceMore''')"
   ]
  },
  {
   "cell_type": "code",
   "execution_count": 14,
   "metadata": {},
   "outputs": [],
   "source": [
    "T1 = True\n",
    "F1 = False\n",
    "N1 = None"
   ]
  },
  {
   "cell_type": "code",
   "execution_count": 15,
   "metadata": {},
   "outputs": [
    {
     "ename": "NameError",
     "evalue": "name 'TRUE' is not defined",
     "output_type": "error",
     "traceback": [
      "\u001b[1;31m---------------------------------------------------------------------------\u001b[0m",
      "\u001b[1;31mNameError\u001b[0m                                 Traceback (most recent call last)",
      "\u001b[1;32m<ipython-input-15-dda81581ed65>\u001b[0m in \u001b[0;36m<module>\u001b[1;34m\u001b[0m\n\u001b[1;32m----> 1\u001b[1;33m \u001b[0mT2\u001b[0m \u001b[1;33m=\u001b[0m \u001b[0mTRUE\u001b[0m\u001b[1;33m\u001b[0m\u001b[1;33m\u001b[0m\u001b[0m\n\u001b[0m",
      "\u001b[1;31mNameError\u001b[0m: name 'TRUE' is not defined"
     ]
    }
   ],
   "source": [
    "T2 = TRUE"
   ]
  },
  {
   "cell_type": "code",
   "execution_count": 19,
   "metadata": {},
   "outputs": [
    {
     "data": {
      "text/plain": "False"
     },
     "execution_count": 19,
     "metadata": {},
     "output_type": "execute_result"
    }
   ],
   "source": [
    "1 == 0"
   ]
  },
  {
   "cell_type": "code",
   "execution_count": 20,
   "metadata": {},
   "outputs": [
    {
     "data": {
      "text/plain": "True"
     },
     "execution_count": 20,
     "metadata": {},
     "output_type": "execute_result"
    }
   ],
   "source": [
    "1 == 1"
   ]
  },
  {
   "cell_type": "markdown",
   "metadata": {},
   "source": [
    "### 字符串转义\n",
    "单引号（ ' )的转义字符：\\'\n",
    "\n",
    "tab的转义字符：\\t\n",
    "\n",
    "\\的转义字符：\\\\\\\\"
   ]
  },
  {
   "cell_type": "code",
   "execution_count": 21,
   "metadata": {},
   "outputs": [
    {
     "name": "stdout",
     "output_type": "stream",
     "text": "what's wrong\nshow\tmethecode\nLet's what \\ happen\n"
    }
   ],
   "source": [
    "print('what\\'s wrong')\n",
    "print('show\\tmethecode')\n",
    "print('Let\\'s what \\\\ happen')"
   ]
  },
  {
   "cell_type": "markdown",
   "metadata": {},
   "source": [
    "### 不转义声明（Raw String）\n",
    "在字符串的开始加r，使得字符串不发生转义。\n",
    "常用于大量需要表达\\的字符串。"
   ]
  },
  {
   "cell_type": "code",
   "execution_count": 29,
   "metadata": {},
   "outputs": [
    {
     "data": {
      "text/plain": "\"what\\\\'s wrong\""
     },
     "execution_count": 29,
     "metadata": {},
     "output_type": "execute_result"
    }
   ],
   "source": [
    "r'what\\'s wrong' #错误的写法，Jupyter可以这么写，在Linux上不行"
   ]
  },
  {
   "cell_type": "code",
   "execution_count": 31,
   "metadata": {},
   "outputs": [
    {
     "data": {
      "text/plain": "\"what\\\\'s wrong\""
     },
     "execution_count": 31,
     "metadata": {},
     "output_type": "execute_result"
    }
   ],
   "source": [
    "r\"what\\'s wrong\" #r使得字符串中间的字符均不转义"
   ]
  },
  {
   "cell_type": "code",
   "execution_count": 36,
   "metadata": {},
   "outputs": [
    {
     "name": "stdout",
     "output_type": "stream",
     "text": "what\\'s wrong\n"
    }
   ],
   "source": [
    "print(r\"what\\'s wrong\")"
   ]
  },
  {
   "cell_type": "code",
   "execution_count": 37,
   "metadata": {},
   "outputs": [
    {
     "name": "stdout",
     "output_type": "stream",
     "text": "what's wrong\n"
    }
   ],
   "source": [
    "print(\"what's wrong\")"
   ]
  },
  {
   "cell_type": "code",
   "execution_count": 43,
   "metadata": {},
   "outputs": [
    {
     "name": "stdout",
     "output_type": "stream",
     "text": "我是好人\n"
    }
   ],
   "source": [
    "a = (\"我是好人\").encode(\"utf-8\")\n",
    "print(a.decode(\"utf-8\"))"
   ]
  },
  {
   "cell_type": "code",
   "execution_count": 57,
   "metadata": {},
   "outputs": [
    {
     "name": "stdout",
     "output_type": "stream",
     "text": "175\n1\n2\n"
    }
   ],
   "source": [
    "print(0xAF)\n",
    "print(0o01)\n",
    "print(0b10)"
   ]
  },
  {
   "cell_type": "markdown",
   "metadata": {},
   "source": [
    "### Unicode字符串\n",
    "在字符串前加u，表示这是一个unicode字符串。\n",
    "\n",
    "unicode字符串和普通字符串的区别在于：unicode字符串中，每一个为表示一个“字”。\n",
    "\n",
    "而普通字符串中，一个“字”可能由多个位表示。尤其是中文的情况下。\n",
    "\n",
    "unicode字符串和普通字符串外形相似，但是很多地方无法使用。2-4个字节表示一个字。"
   ]
  },
  {
   "cell_type": "code",
   "execution_count": 58,
   "metadata": {},
   "outputs": [
    {
     "name": "stdout",
     "output_type": "stream",
     "text": "中文\n中文\n"
    }
   ],
   "source": [
    "print('中文')\n",
    "print(u'中文')"
   ]
  },
  {
   "cell_type": "code",
   "execution_count": 63,
   "metadata": {},
   "outputs": [
    {
     "name": "stdout",
     "output_type": "stream",
     "text": "True\nTrue\n"
    }
   ],
   "source": [
    "print('abc' == u'abc')\n",
    "print('中文' == u'中文')"
   ]
  },
  {
   "cell_type": "markdown",
   "metadata": {},
   "source": [
    "### 变量\n",
    "变量需要一个名字。\n",
    "首字母需要是字母或下划线，其余部分可以是字母，下划线和数字。\n",
    "变量大小写敏感，但是使用大小写区分变量是不可取的。"
   ]
  },
  {
   "cell_type": "markdown",
   "metadata": {},
   "source": [
    "### 变量类型\n",
    "每个变量都会指向一个值，每个值都拥有一个类型。\n",
    "变量在运行过程中可以指向不同的值，拥有不同的类型。\n",
    "因此在运行前无法知道名字所对应的类型。（动态类型语言特征）"
   ]
  }
 ]
}