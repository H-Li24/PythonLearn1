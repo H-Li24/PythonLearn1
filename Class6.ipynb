{
 "nbformat": 4,
 "nbformat_minor": 2,
 "metadata": {
  "language_info": {
   "name": "python",
   "codemirror_mode": {
    "name": "ipython",
    "version": 3
   },
   "version": "3.7.4-final"
  },
  "orig_nbformat": 2,
  "file_extension": ".py",
  "mimetype": "text/x-python",
  "name": "python",
  "npconvert_exporter": "python",
  "pygments_lexer": "ipython3",
  "version": 3,
  "kernelspec": {
   "name": "python3",
   "display_name": "Python 3"
  }
 },
 "cells": [
  {
   "cell_type": "markdown",
   "metadata": {},
   "source": [
    "### 内置数据结构\n",
    "\n",
    "- list\n",
    "- tuple\n",
    "- dict\n",
    "- set\n",
    "- string"
   ]
  },
  {
   "cell_type": "markdown",
   "metadata": {},
   "source": [
    "### list\n",
    " \n",
    " 具有顺序的一组对象。\n",
    "\n",
    " 可以随意访问其中的任意位置。\n",
    "\n",
    " 可以添加和删除。\n",
    "\n",
    " 其中的元素不需要是同类型。\n",
    "\n",
    " 最好是一组同类型对象。不同类型建议用tuple。\n",
    " \n",
    " 底层数据结构用的是array。单链表。"
   ]
  },
  {
   "cell_type": "code",
   "execution_count": 1,
   "metadata": {},
   "outputs": [
    {
     "name": "stdout",
     "output_type": "stream",
     "text": "I have 4 items to purchase.\n"
    }
   ],
   "source": [
    "import sys\n",
    "shoppinglist = ['apple', 'mango', 'carrot', 'banana']\n",
    "\n",
    "print( 'I have {0} items to purchase.'.format( len(shoppinglist) ) )"
   ]
  },
  {
   "cell_type": "code",
   "execution_count": 2,
   "metadata": {},
   "outputs": [
    {
     "name": "stdout",
     "output_type": "stream",
     "text": "These items are: apple mango carrot banana"
    }
   ],
   "source": [
    "sys.stdout.write('These items are: ')\n",
    "for item in shoppinglist: # 遍历（枚举）列表中的元素（而不是位置或下标）\n",
    "    sys.stdout.write(str(item) + ' ') # 如果用print会换行"
   ]
  },
  {
   "cell_type": "code",
   "execution_count": 3,
   "metadata": {},
   "outputs": [
    {
     "name": "stdout",
     "output_type": "stream",
     "text": "\n I also have to buy rice.\nMy shopping list is now ['apple', 'mango', 'carrot', 'banana', 'rice'].\n"
    }
   ],
   "source": [
    "print('\\n I also have to buy rice.')\n",
    "shoppinglist.append('rice')\n",
    "print( 'My shopping list is now {0}.'.format(shoppinglist) ) # 可以对整个list进行打印控制"
   ]
  },
  {
   "cell_type": "code",
   "execution_count": 4,
   "metadata": {},
   "outputs": [
    {
     "name": "stdout",
     "output_type": "stream",
     "text": "I will sort my list now.\nSorted shopping list is ['apple', 'banana', 'carrot', 'mango', 'rice'].\n"
    }
   ],
   "source": [
    "print('I will sort my list now.')\n",
    "shoppinglist.sort() # 按首字母排序\n",
    "print('Sorted shopping list is {0}.'.format(shoppinglist) )"
   ]
  },
  {
   "cell_type": "code",
   "execution_count": 5,
   "metadata": {},
   "outputs": [
    {
     "name": "stdout",
     "output_type": "stream",
     "text": "THe first item I will buy is apple.\nI bought the apple.\nMy shopping list is now ['banana', 'carrot', 'mango', 'rice'].\n"
    }
   ],
   "source": [
    "print('THe first item I will buy is {0}.'.format(shoppinglist[0]) )\n",
    "olditem = shoppinglist[0]\n",
    "del shoppinglist[0] # 删除对应指针\n",
    "print('I bought the {0}.'.format(olditem))\n",
    "print( 'My shopping list is now {0}.'.format(shoppinglist) ) "
   ]
  },
  {
   "cell_type": "markdown",
   "metadata": {},
   "source": [
    "### tuple\n",
    "\n",
    "具有顺序的一组对象。\n",
    "\n",
    "可以随意访问其中的任意位置。\n",
    "\n",
    "不可以添加和删除。\n",
    "\n",
    "其中的元素不需要是同类型。"
   ]
  },
  {
   "cell_type": "code",
   "execution_count": 6,
   "metadata": {},
   "outputs": [
    {
     "name": "stdout",
     "output_type": "stream",
     "text": "Number of animals in the zoo is 3.\n"
    }
   ],
   "source": [
    "zoo = ('python', 'elephant', 'penguin')\n",
    "print('Number of animals in the zoo is {0}.'.format(len(zoo)) )"
   ]
  },
  {
   "cell_type": "code",
   "execution_count": 9,
   "metadata": {},
   "outputs": [
    {
     "name": "stdout",
     "output_type": "stream",
     "text": "Number of cages in the new zoo is 3.\nAll animals in the new zoo are ('monkey', 'camel', ('python', 'elephant', 'penguin')).\n"
    }
   ],
   "source": [
    "new_zoo = 'monkey', 'camel', zoo\n",
    "print('Number of cages in the new zoo is {0}.'.format(len(new_zoo)) )\n",
    "print('All animals in the new zoo are {0}.'.format(new_zoo)) # 元组本身作为一个元素赋值到新元组中"
   ]
  },
  {
   "cell_type": "code",
   "execution_count": 10,
   "metadata": {},
   "outputs": [
    {
     "name": "stdout",
     "output_type": "stream",
     "text": "Animals brought from the old zoo are ('python', 'elephant', 'penguin').\n"
    }
   ],
   "source": [
    "print('Animals brought from the old zoo are {0}.'.format(new_zoo[2])) # 引用整个元组"
   ]
  },
  {
   "cell_type": "code",
   "execution_count": 12,
   "metadata": {},
   "outputs": [
    {
     "name": "stdout",
     "output_type": "stream",
     "text": "Last animals brought from the old zoo are penguin.\n"
    }
   ],
   "source": [
    "print('Last animals brought from the old zoo are {0}.'.format(new_zoo[2][2] )) # 引用元组元素"
   ]
  },
  {
   "cell_type": "code",
   "execution_count": 15,
   "metadata": {},
   "outputs": [
    {
     "name": "stdout",
     "output_type": "stream",
     "text": "Number of animals in the new zoo is 5.\n"
    }
   ],
   "source": [
    "print('Number of animals in the new zoo is {0}.'.format( len(new_zoo)-1+len(new_zoo[2])) )"
   ]
  },
  {
   "cell_type": "code",
   "execution_count": 19,
   "metadata": {},
   "outputs": [
    {
     "name": "stdout",
     "output_type": "stream",
     "text": "(1, 2, 3)\n"
    }
   ],
   "source": [
    "r = 1, 2, 3\n",
    "print(r)"
   ]
  },
  {
   "cell_type": "code",
   "execution_count": 22,
   "metadata": {},
   "outputs": [
    {
     "name": "stdout",
     "output_type": "stream",
     "text": "1\n2\n"
    }
   ],
   "source": [
    "def f():\n",
    "    return (1,2,3) # 元组在这里作为多返回值的桥梁\n",
    "a, b, c = f()\n",
    "print(a)\n",
    "print(b)"
   ]
  },
  {
   "cell_type": "markdown",
   "metadata": {},
   "source": [
    "无变量翻转对象（利用tuple）"
   ]
  },
  {
   "cell_type": "code",
   "execution_count": 23,
   "metadata": {},
   "outputs": [
    {
     "name": "stdout",
     "output_type": "stream",
     "text": "2\n1\n"
    }
   ],
   "source": [
    "a , b = b, a\n",
    "print(a)\n",
    "print(b)"
   ]
  },
  {
   "cell_type": "code",
   "execution_count": 18,
   "metadata": {},
   "outputs": [
    {
     "data": {
      "text/plain": "tuple"
     },
     "execution_count": 18,
     "metadata": {},
     "output_type": "execute_result"
    }
   ],
   "source": [
    "one = (1,)\n",
    "type(one)"
   ]
  },
  {
   "cell_type": "markdown",
   "metadata": {},
   "source": [
    "### 操作序列对象（list和tuple均使用 ）"
   ]
  },
  {
   "cell_type": "code",
   "execution_count": 24,
   "metadata": {},
   "outputs": [],
   "source": [
    "shoppinglist = ['apple','mango','carrot','banana']\n",
    "name = 'henchli'"
   ]
  },
  {
   "cell_type": "markdown",
   "metadata": {},
   "source": [
    "通过[]访问"
   ]
  },
  {
   "cell_type": "code",
   "execution_count": 25,
   "metadata": {},
   "outputs": [
    {
     "name": "stdout",
     "output_type": "stream",
     "text": "Item 0 is apple.\nItem 1 is mango.\nItem 2 is carrot.\nItem 3 is banana.\n"
    }
   ],
   "source": [
    "print('Item 0 is {0}.'.format(shoppinglist[0]) )\n",
    "print('Item 1 is {0}.'.format(shoppinglist[1]) )\n",
    "print('Item 2 is {0}.'.format(shoppinglist[2]) )\n",
    "print('Item 3 is {0}.'.format(shoppinglist[3]) )\n",
    "print('Item -1 is {0}.'.format(shoppinglist[-1]) ) # 支持反向查找\n",
    "print('Item -2 is {0}.'.format(shoppinglist[-2]) )"
   ]
  },
  {
   "cell_type": "code",
   "execution_count": 27,
   "metadata": {},
   "outputs": [
    {
     "name": "stdout",
     "output_type": "stream",
     "text": "Character 0 is h.\n"
    }
   ],
   "source": [
    "print('Character 0 is {0}.'.format(name[0]) )"
   ]
  },
  {
   "cell_type": "code",
   "execution_count": null,
   "metadata": {},
   "outputs": [],
   "source": [
    "通过[:]访问"
   ]
  },
  {
   "cell_type": "code",
   "execution_count": 29,
   "metadata": {},
   "outputs": [
    {
     "name": "stdout",
     "output_type": "stream",
     "text": "Item 1 to 3 is ['mango', 'carrot'].\nItem 2 to end is ['carrot', 'banana'].\nItem start to end is ['apple', 'mango', 'carrot', 'banana'].\nCharacter start to end is henchli.\n"
    }
   ],
   "source": [
    "print('Item 1 to 3 is {0}.'.format(shoppinglist[1:3]) )\n",
    "print('Item 2 to end is {0}.'.format(shoppinglist[2:]) )\n",
    "print('Item start to end is {0}.'.format(shoppinglist[:]) )\n",
    "print('Character start to end is {0}.'.format(name[:]) )"
   ]
  },
  {
   "cell_type": "markdown",
   "metadata": {},
   "source": [
    "反序操作"
   ]
  },
  {
   "cell_type": "code",
   "execution_count": 30,
   "metadata": {},
   "outputs": [
    {
     "name": "stdout",
     "output_type": "stream",
     "text": "reversed character is ilhcneh.\n"
    }
   ],
   "source": [
    "print('reversed character is {0}.'.format(name[::-1]) )"
   ]
  },
  {
   "cell_type": "code",
   "execution_count": null,
   "metadata": {},
   "outputs": [],
   "source": [
    "通过[]设定值"
   ]
  },
  {
   "cell_type": "code",
   "execution_count": null,
   "metadata": {},
   "outputs": [],
   "source": [
    "通过for枚举"
   ]
  },
  {
   "cell_type": "code",
   "execution_count": null,
   "metadata": {},
   "outputs": [],
   "source": [
    "通过[:]设定值"
   ]
  },
  {
   "cell_type": "code",
   "execution_count": null,
   "metadata": {},
   "outputs": [],
   "source": [
    "通过[:]设定步进"
   ]
  },
  {
   "cell_type": "markdown",
   "metadata": {},
   "source": [
    "### 练习\n",
    "\n",
    "1. 建立一个list，内容为10以内的所有质数。\n",
    "2. 计算出100内所有质数的列表。\n",
    "3. 将这个列表转为tuple。\n",
    "4. 根据上面的tuple，获得反转的tuple。\n",
    "5. 将一个list分为两个：第一个list拥有原本list前一半的反向，第二个list拥有原本list后一半的反向。"
   ]
  },
  {
   "cell_type": "markdown",
   "metadata": {},
   "source": [
    "### 204. 计数质数"
   ]
  },
  {
   "cell_type": "code",
   "execution_count": null,
   "metadata": {},
   "outputs": [],
   "source": [
    "质数：指在大于1的自然数中，除了1和该数自身外，无法被其他自然数整除的数（也可定义为只有1与该数本身两个正因数的数）。"
   ]
  },
  {
   "cell_type": "markdown",
   "metadata": {},
   "source": [
    "##### 思路1\n",
    "\n",
    "(1) Let's start with a isPrime function. To determine if a number is prime, we need to check if it is not divisible by any number less than n. The runtime complexity of isPrime function would be $O(n)$ and hence counting the total prime numbers up to n would be $O(n^2)$. #什么是O(n)和O(n^2)？\n",
    "\n",
    "(2) 要判断自然数 x 是否质数，就不断尝试小于 x 且大于1的自然数，只要有一个能整除，则 x 是合数；否则，x 是质数。"
   ]
  },
  {
   "cell_type": "code",
   "execution_count": 18,
   "metadata": {},
   "outputs": [],
   "source": [
    "def PrimeTest(N):\n",
    "    '''判断某个数是否为质数。如果是质数，则会返回该值。\n",
    "\n",
    "    Args:\n",
    "        N: 输入数值，int型。\n",
    "    \n",
    "    Returns:\n",
    "        如果N小于等于1，则会提示不合理输入，不会返回任何值。\n",
    "        如果N是质数，则会返回N。\n",
    "        如果N不是质数，则会提示N是质数，不会返回任何值。\n",
    "    '''\n",
    "    N = int(N)\n",
    "    if (N<=1): # 排除不合理输入\n",
    "        return\n",
    "    elif (N == 2): # 2 是唯一的偶质数\n",
    "        return 2\n",
    "    else:\n",
    "        result = []\n",
    "        iter = 2 # 2是质数之始\n",
    "        while(iter < N):\n",
    "            if N % iter == 0:\n",
    "                return\n",
    "            iter = iter + 1\n",
    "        return N"
   ]
  },
  {
   "cell_type": "code",
   "execution_count": 19,
   "metadata": {},
   "outputs": [],
   "source": [
    "def PrimeCount(N):\n",
    "    prime = []\n",
    "    iter = 2 # \n",
    "    while(iter < N):\n",
    "        prime.append(PrimeTest(iter) )\n",
    "        iter = iter + 1\n",
    "    while None in prime: # 删除None值\n",
    "        prime.remove(None)\n",
    "    return prime"
   ]
  },
  {
   "cell_type": "code",
   "execution_count": 20,
   "metadata": {},
   "outputs": [
    {
     "data": {
      "text/plain": "[2,\n 3,\n 5,\n 7,\n 11,\n 13,\n 17,\n 19,\n 23,\n 29,\n 31,\n 37,\n 41,\n 43,\n 47,\n 53,\n 59,\n 61,\n 67,\n 71,\n 73,\n 79,\n 83,\n 89,\n 97]"
     },
     "execution_count": 20,
     "metadata": {},
     "output_type": "execute_result"
    }
   ],
   "source": [
    "PrimeCount(100)"
   ]
  },
  {
   "cell_type": "code",
   "execution_count": 11,
   "metadata": {},
   "outputs": [
    {
     "data": {
      "text/plain": "25"
     },
     "execution_count": 11,
     "metadata": {},
     "output_type": "execute_result"
    }
   ],
   "source": [
    "countPrimes(100)"
   ]
  },
  {
   "cell_type": "code",
   "execution_count": 3,
   "metadata": {},
   "outputs": [],
   "source": [
    "for i in range(2,2): # 这里什么也不会发生\n",
    "    print(i)"
   ]
  },
  {
   "cell_type": "code",
   "execution_count": 2,
   "metadata": {},
   "outputs": [
    {
     "name": "stdout",
     "output_type": "stream",
     "text": "2\n"
    }
   ],
   "source": [
    "for i in range(2,3): #range(2,n) 是 2 到 n-1\n",
    "    print(i)"
   ]
  },
  {
   "cell_type": "code",
   "execution_count": null,
   "metadata": {},
   "outputs": [],
   "source": []
  },
  {
   "cell_type": "code",
   "execution_count": null,
   "metadata": {},
   "outputs": [],
   "source": []
  }
 ]
}